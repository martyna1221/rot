{
  "cells": [
    {
      "cell_type": "code",
      "execution_count": 1,
      "metadata": {
        "id": "k-y_bj6jxMoJ"
      },
      "outputs": [],
      "source": [
        "alpha = {\"A\": 1,\n",
        "         \"B\": 2,\n",
        "         \"C\": 3,\n",
        "         \"D\": 4,\n",
        "         \"E\": 5,\n",
        "         \"F\": 6,\n",
        "         \"G\": 7,\n",
        "         \"H\": 8,\n",
        "         \"I\": 9,\n",
        "         \"J\": 10,\n",
        "         \"K\": 11,\n",
        "         \"L\": 12,\n",
        "         \"M\": 13,\n",
        "         \"N\": 14,\n",
        "         \"O\": 15,\n",
        "         \"P\": 16,\n",
        "         \"Q\": 17,\n",
        "         \"R\": 18,\n",
        "         \"S\": 19,\n",
        "         \"T\": 20,\n",
        "         \"U\": 21,\n",
        "         \"V\": 22,\n",
        "         \"W\": 23,\n",
        "         \"X\": 24,\n",
        "         \"Y\": 25,\n",
        "         \"Z\": 26}"
      ]
    },
    {
      "cell_type": "code",
      "execution_count": 2,
      "metadata": {
        "id": "KCBNNItUxQH0"
      },
      "outputs": [],
      "source": [
        "invAlpha = {v: k for k, v in alpha.items()}"
      ]
    },
    {
      "cell_type": "code",
      "execution_count": 3,
      "metadata": {
        "id": "-wNdIj6HxTeQ"
      },
      "outputs": [],
      "source": [
        "#defaults to rot13\n",
        "def rot13(word, rotateBy=13):\n",
        "    deciphered = []\n",
        "    #take the word turn it into a list of letters\n",
        "    splits = [*word]\n",
        "    #take each letter and run it through alpha (make letter uppercase if it isn't already); skip spaces\n",
        "    for character in splits:\n",
        "        #initialize var. num\n",
        "        num = None\n",
        "        #handle spaces\n",
        "        if character == \" \":\n",
        "            deciphered.append(\" \")\n",
        "            continue\n",
        "        try:\n",
        "            charUpper = character.upper()\n",
        "            num = alpha[charUpper]\n",
        "        #handles non alphabetical chars.\n",
        "        except KeyError:\n",
        "            deciphered.append(character)\n",
        "            continue\n",
        "        newNum = num + rotateBy\n",
        "        if newNum > 26:\n",
        "            newNum = newNum % 26\n",
        "        decodedChar = invAlpha[newNum]\n",
        "        deciphered.append(decodedChar)\n",
        "    #combine the list letters to get the word\n",
        "    plaintext = ''.join(deciphered)\n",
        "    return plaintext"
      ]
    },
    {
      "cell_type": "code",
      "execution_count": 4,
      "metadata": {
        "id": "R8jk9ehExUGB"
      },
      "outputs": [],
      "source": [
        "def test_rot13():\n",
        "    #testing basic rot13 functionality (default)\n",
        "    assert rot13(\"Gur cnffjbeq sbe lbhe ubzrjbex vf sylvatryrcunagf\").lower() == \"the password for your homework is flyingelephants\".lower()\n",
        "    assert rot13(\"The quick brown fox jumps over the lazy dog.\").lower() == \"Gur dhvpx oebja sbk whzcf bire gur ynml qbt.\".lower()\n",
        "    assert rot13(\"hello\").lower() == \"uryyb\".lower()\n",
        "    #testing a full 26 rotation (should return the original string)\n",
        "    assert rot13(\"The password for your homework is flyingelephants\", 26).lower() == \"the password for your homework is flyingelephants\".lower()\n",
        "    assert rot13(\"Full rotation\", 26).lower() == \"full rotation\".lower()\n",
        "    #testing other rotations\n",
        "    assert rot13(\"The password\", 1).lower() == \"uif qbttxpse\".lower()\n",
        "    assert rot13(\"The password\", 25).lower() == \"sgd ozrrvnqc\".lower()\n",
        "    assert rot13(\"Hello, World!\", 1).lower() == \"Ifmmp, Xpsme!\".lower()\n",
        "    assert rot13(\"Hello, World!\", 25).lower() == \"Gdkkn, Vnqkc!\".lower()\n",
        "    #testing edge cases\n",
        "    assert rot13(\"\", 13).lower() == \"\".lower()  #empty string\n",
        "    assert rot13(\"1234567890\", 13).lower() == \"1234567890\".lower()  #numeric values\n",
        "    assert rot13(\"!@#$%^&*()\", 13).lower() == \"!@#$%^&*()\".lower()  #special characters\n",
        "    assert rot13(\"12345\", 13) == \"12345\"\n",
        "    assert rot13(\"!@#$%\", 13) == \"!@#$%\"\n",
        "    #testing large rotation\n",
        "    assert rot13(\"rotate\", 52).lower() == \"rotate\".lower()\n",
        "    assert rot13(\"rotate\", 53).lower() == \"spubuf\".lower()\n",
        "    #if we made it here, all tests passed\n",
        "    print(\"All tests passed!\")"
      ]
    },
    {
      "cell_type": "code",
      "execution_count": null,
      "metadata": {
        "colab": {
          "base_uri": "https://localhost:8080/"
        },
        "id": "oHjD1-ZzxXO1",
        "outputId": "fe98c5d5-9552-4c2b-a5be-12bedecd7f28"
      },
      "outputs": [],
      "source": [
        "test_rot13()"
      ]
    }
  ],
  "metadata": {
    "colab": {
      "provenance": []
    },
    "kernelspec": {
      "display_name": "Python 3",
      "name": "python3"
    },
    "language_info": {
      "name": "python"
    }
  },
  "nbformat": 4,
  "nbformat_minor": 0
}
